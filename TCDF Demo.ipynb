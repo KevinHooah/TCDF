{
 "cells": [
  {
   "cell_type": "markdown",
   "metadata": {},
   "source": [
    "# TCDF: Temporal Causal Discovery Framework\n",
    "\n",
    "This notebook shows the functionality of TCDF. \n",
    "\n",
    "See the corresponding paper for more detail: __[\"Causal Discovery with Attention-Based Convolutional Neural Networks\"](https://www.mdpi.com/2504-4990/1/1/19)__."
   ]
  },
  {
   "cell_type": "code",
   "execution_count": 1,
   "metadata": {},
   "outputs": [
    {
     "name": "stdout",
     "output_type": "stream",
     "text": [
      "usage: runTCDF.py [-h] [--cuda] [--epochs EPOCHS] [--kernel_size KERNEL_SIZE]\n",
      "                  [--hidden_layers HIDDEN_LAYERS]\n",
      "                  [--learning_rate LEARNING_RATE] [--optimizer {Adam,RMSprop}]\n",
      "                  [--log_interval LOG_INTERVAL] [--seed SEED]\n",
      "                  [--dilation_coefficient DILATION_COEFFICIENT]\n",
      "                  [--significance SIGNIFICANCE] [--plot]\n",
      "                  (--ground_truth GROUND_TRUTH | --data DATA [DATA ...])\n",
      "\n",
      "TCDF: Temporal Causal Discovery Framework\n",
      "\n",
      "optional arguments:\n",
      "  -h, --help            show this help message and exit\n",
      "  --cuda                Use CUDA (GPU) (default: False)\n",
      "  --epochs EPOCHS       Number of epochs (default: 1000)\n",
      "  --kernel_size KERNEL_SIZE\n",
      "                        Size of kernel, i.e. window size. Maximum delay to be\n",
      "                        found is kernel size - 1. Recommended to be equal to\n",
      "                        dilation coeffient (default: 4)\n",
      "  --hidden_layers HIDDEN_LAYERS\n",
      "                        Number of hidden layers in the depthwise convolution\n",
      "                        (default: 0)\n",
      "  --learning_rate LEARNING_RATE\n",
      "                        Learning rate (default: 0.01)\n",
      "  --optimizer {Adam,RMSprop}\n",
      "                        Optimizer to use (default: Adam)\n",
      "  --log_interval LOG_INTERVAL\n",
      "                        Epoch interval to report loss (default: 500)\n",
      "  --seed SEED           Random seed (default: 1111)\n",
      "  --dilation_coefficient DILATION_COEFFICIENT\n",
      "                        Dilation coefficient, recommended to be equal to\n",
      "                        kernel size (default: 4)\n",
      "  --significance SIGNIFICANCE\n",
      "                        Significance number stating when an increase in loss\n",
      "                        is significant enough to label a potential cause as\n",
      "                        true (validated) cause. See paper for more details\n",
      "                        (default: 0.8)\n",
      "  --plot                Show causal graph (default: False)\n",
      "  --ground_truth GROUND_TRUTH\n",
      "                        Provide dataset(s) and the ground truth(s) to evaluate\n",
      "                        the results of TCDF. Argument format:\n",
      "                        DataFile1=GroundtruthFile1,Key2=Value2,... with a key\n",
      "                        for each dataset containing multivariate time series\n",
      "                        (required file format: csv, a column with header for\n",
      "                        each time series) and a value for the corresponding\n",
      "                        ground truth (required file format: csv, no header,\n",
      "                        index of cause in first column, index of effect in\n",
      "                        second column, time delay between cause and effect in\n",
      "                        third column)\n",
      "  --data DATA [DATA ...]\n",
      "                        (Path to) one or more datasets to analyse by TCDF\n",
      "                        containing multiple time series. Required file format:\n",
      "                        csv with a column (incl. header) for each time series\n"
     ]
    }
   ],
   "source": [
    "\"\"\"Shows all argument options\"\"\"\n",
    "\n",
    "%run -i \"runTCDF.py\" --help"
   ]
  },
  {
   "cell_type": "markdown",
   "metadata": {},
   "source": [
    "To demonstrate the Temporal Causal Discovery Framework, we apply TCDF to a small dataset (`demo_dataset.csv`). This dataset contains 4 timeseries (called `Timeser0`,`Timeser1`,`Timeser2` and `Timeser3`), all containing 4,000 time steps. `Timeser0` and `Timeser3`contain random values. A value of `Timeser1` at timestep `t` is generated based on timestep `t-1` of `Timeser0` plus some noise. Therefore, `Timeser1` is caused by `Timeser0` with a delay of 1 time step. A value of `Timeser2` at timestep `t` is generated based on timestep `t-2` of `Timeser1` plus some noise. Therefore, `Timeser2` is caused by `Timeser1` with a delay of 2 time steps. File `demo_groundtruth` contains the ground truth, i.e. it tells that there is a causal relationship from `Timeser0` to `Timeser1` with a delay of 1 time step, and a causal relationship from `Timeser1` to `Timeser2` with a delay of 2 time steps."
   ]
  },
  {
   "cell_type": "code",
   "execution_count": 2,
   "metadata": {},
   "outputs": [
    {
     "name": "stdout",
     "output_type": "stream",
     "text": [
      "Arguments: Namespace(cuda=True, data=['s1l2_cook.csv'], dilation_coefficient=4, epochs=1000, ground_truth=None, hidden_layers=0, kernel_size=4, learning_rate=0.01, log_interval=500, optimizer='Adam', plot=True, seed=1111, significance=0.8)\n",
      "\n",
      " Dataset:  s1l2_cook.csv\n",
      "\n",
      " Analysis started for target:  V6\n",
      "Epoch:  1 [0%] \tLoss: 164.699707\n",
      "Epoch: 500 [50%] \tLoss: 37.855530\n",
      "Epoch: 1000 [100%] \tLoss: 37.777142\n",
      "Potential causes:  [0]\n",
      "Validated causes:  [0]\n",
      "\n",
      " Analysis started for target:  V7\n",
      "Epoch:  1 [0%] \tLoss: 8393.244141\n",
      "Epoch: 500 [50%] \tLoss: 674.919434\n",
      "Epoch: 1000 [100%] \tLoss: 660.043213\n",
      "Potential causes:  [1]\n",
      "Validated causes:  [1]\n",
      "\n",
      " Analysis started for target:  V8\n",
      "Epoch:  1 [0%] \tLoss: 56.140640\n",
      "Epoch: 500 [50%] \tLoss: 24.422348\n",
      "Epoch: 1000 [100%] \tLoss: 24.402752\n",
      "Potential causes:  [2]\n",
      "Validated causes:  [2]\n",
      "\n",
      " Analysis started for target:  V9\n",
      "Epoch:  1 [0%] \tLoss: 34.816002\n",
      "Epoch: 500 [50%] \tLoss: 4.451593\n",
      "Epoch: 1000 [100%] \tLoss: 4.450485\n",
      "Potential causes:  [3]\n",
      "Validated causes:  [3]\n",
      "\n",
      " Analysis started for target:  A1\n",
      "Epoch:  1 [0%] \tLoss: 0.137604\n",
      "Epoch: 500 [50%] \tLoss: 0.000082\n",
      "Epoch: 1000 [100%] \tLoss: 0.000073\n",
      "Potential causes:  [4]\n",
      "Validated causes:  [4]\n",
      "\n",
      " Analysis started for target:  A2\n",
      "Epoch:  1 [0%] \tLoss: 0.131220\n",
      "Epoch: 500 [50%] \tLoss: 0.000087\n",
      "Epoch: 1000 [100%] \tLoss: 0.000081\n",
      "Potential causes:  [5]\n",
      "Validated causes:  [5]\n",
      "\n",
      " Analysis started for target:  A3\n",
      "Epoch:  1 [0%] \tLoss: 0.136002\n",
      "Epoch: 500 [50%] \tLoss: 0.000234\n",
      "Epoch: 1000 [100%] \tLoss: 0.000201\n",
      "Potential causes:  [6]\n",
      "Validated causes:  [6]\n",
      "\n",
      " Analysis started for target:  G1\n",
      "Epoch:  1 [0%] \tLoss: 1295.194824\n",
      "Epoch: 500 [50%] \tLoss: 0.164248\n",
      "Epoch: 1000 [100%] \tLoss: 0.156020\n",
      "Potential causes:  [7]\n",
      "Validated causes:  [7]\n",
      "\n",
      " Analysis started for target:  G2\n",
      "Epoch:  1 [0%] \tLoss: 507.532410\n",
      "Epoch: 500 [50%] \tLoss: 0.082445\n",
      "Epoch: 1000 [100%] \tLoss: 0.078532\n",
      "Potential causes:  [8]\n",
      "Validated causes:  [8]\n",
      "\n",
      " Analysis started for target:  G3\n",
      "Epoch:  1 [0%] \tLoss: 764.898071\n",
      "Epoch: 500 [50%] \tLoss: 0.037022\n",
      "Epoch: 1000 [100%] \tLoss: 0.033701\n",
      "Potential causes:  [9]\n",
      "Validated causes:  [9]\n",
      "\n",
      "===================Results for s1l2_cook.csv ==================================\n",
      "V6 causes V6 with a delay of 1 time steps.\n",
      "V7 causes V7 with a delay of 1 time steps.\n",
      "V8 causes V8 with a delay of 1 time steps.\n",
      "V9 causes V9 with a delay of 1 time steps.\n",
      "A1 causes A1 with a delay of 3 time steps.\n",
      "A2 causes A2 with a delay of 1 time steps.\n",
      "A3 causes A3 with a delay of 1 time steps.\n",
      "G1 causes G1 with a delay of 1 time steps.\n",
      "G2 causes G2 with a delay of 3 time steps.\n",
      "G3 causes G3 with a delay of 1 time steps.\n",
      "==================================================================================\n"
     ]
    },
    {
     "data": {
      "image/png": "[encoded data removed]",
      "text/plain": [
       "<Figure size 432x288 with 1 Axes>"
      ]
     },
     "metadata": {},
     "output_type": "display_data"
    },
    {
     "data": {
      "text/plain": [
       "<Figure size 432x288 with 0 Axes>"
      ]
     },
     "metadata": {},
     "output_type": "display_data"
    }
   ],
   "source": [
    "\"\"\"Run TCDF\"\"\"\n",
    "%matplotlib inline\n",
    "%run -i \"runTCDF.py\" --data s1l2_cook.csv --cuda --plot"
   ]
  }
 ],
 "metadata": {
  "instance_type": "ml.g4dn.xlarge",
  "kernelspec": {
   "display_name": "Python 3 (PyTorch 1.4 Python 3.6 GPU Optimized)",
   "language": "python",
   "name": "python3__SAGEMAKER_INTERNAL__arn:aws:sagemaker:us-east-2:429704687514:image/pytorch-1.4-gpu-py36"
  },
  "language_info": {
   "codemirror_mode": {
    "name": "ipython",
    "version": 3
   },
   "file_extension": ".py",
   "mimetype": "text/x-python",
   "name": "python",
   "nbconvert_exporter": "python",
   "pygments_lexer": "ipython3",
   "version": "3.6.13"
  }
 },
 "nbformat": 4,
 "nbformat_minor": 4
}